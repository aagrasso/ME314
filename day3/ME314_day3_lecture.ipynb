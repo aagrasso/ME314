{
 "cells": [
  {
   "cell_type": "markdown",
   "metadata": {
    "slideshow": {
     "slide_type": "slide"
    }
   },
   "source": [
    "### ST445 Managing and Visualizing Data\n",
    "# Creating and managing databases\n",
    "### Week 3 Lecture, MT 2017 - Kenneth Benoit, Christian Mueller"
   ]
  },
  {
   "cell_type": "markdown",
   "metadata": {
    "slideshow": {
     "slide_type": "slide"
    }
   },
   "source": [
    "## Plan for today\n",
    "\n",
    "- Database systems\n",
    "- JSON\n",
    "- Relational data\n",
    "- Normalisation\n",
    "- SQL and SQLite"
   ]
  },
  {
   "cell_type": "markdown",
   "metadata": {
    "slideshow": {
     "slide_type": "slide"
    }
   },
   "source": [
    "## Database systems\n",
    "\n",
    "#### Relational databases\n",
    "\n",
    "- Mainly implementations and extensions of the SQL Standard ([ISO/IEC 9075:2016](https://www.iso.org/standard/63556.html))\n",
    "- Transactions are always **ACID** (atomic, consistent, isolated, durable)\n",
    "- Data needs to be defined\n",
    "\n",
    "#### Non-relational databases\n",
    "\n",
    "- Key-value storage types (e.g. Amazon DynamoDB) or document storage types (e.g. CouchDB, MongoDB)\n",
    "- Sometime labelled as providing **ACID** transactions but often only _eventually consistent_"
   ]
  },
  {
   "cell_type": "markdown",
   "metadata": {
    "slideshow": {
     "slide_type": "notes"
    }
   },
   "source": [
    "- FYI for clicking on the SQL standard link: The standard is open, i.e. anyone get it, but subject to a fee"
   ]
  },
  {
   "cell_type": "markdown",
   "metadata": {
    "slideshow": {
     "slide_type": "slide"
    }
   },
   "source": [
    "## JSON\n",
    "\n",
    "-  a lightweight data-interchange format that is (supposedly!) easy for humans to read and write, and easy for machines to generate or parse\n",
    "-  follows conventions from Javascript, but is language-independent\n",
    "-  Example: [Twitter data](https://github.com/lse-st445/lectures/blob/master/week03/JSONexample.json)\\\n",
    "-  built on two structures:\n",
    "    *  A collection of name/value pairs\n",
    "    *  An ordered list of values"
   ]
  },
  {
   "cell_type": "markdown",
   "metadata": {
    "slideshow": {
     "slide_type": "slide"
    }
   },
   "source": [
    "### object\n",
    "\n",
    "*  unordered set of name/value pairs. An object begins with `{` and ends with `}`\n",
    "*  each name is followed by `:` and the name/value pairs are separated by `,`"
   ]
  },
  {
   "cell_type": "markdown",
   "metadata": {
    "slideshow": {
     "slide_type": "fragment"
    }
   },
   "source": [
    "### array\n",
    "\n",
    "*   an ordered collection of values\n",
    "*   begins with `[` and ends with `]`\n",
    "*   array values are separated by `,`"
   ]
  },
  {
   "cell_type": "markdown",
   "metadata": {
    "slideshow": {
     "slide_type": "fragment"
    }
   },
   "source": [
    "### value\n",
    "\n",
    "*  can be a `\"string\"`, a number, or `true`, `false`, or `null`, or an object or array\n",
    "*  can be nested"
   ]
  },
  {
   "cell_type": "markdown",
   "metadata": {
    "slideshow": {
     "slide_type": "slide"
    }
   },
   "source": [
    "## strings in JSON\n",
    "\n",
    "*  a sequence of zero or more Unicode characters, wrapped in double quotes\n",
    "*  uses backslash escapes, e.g. \n",
    "    -  `\"\\u2708\\ufe0f\"` represents a ✈️\n",
    "    -  `\"this is \\\"quoted\\\"\"` represents `\"quoted\"`"
   ]
  },
  {
   "cell_type": "code",
   "execution_count": 10,
   "metadata": {
    "slideshow": {
     "slide_type": "fragment"
    }
   },
   "outputs": [
    {
     "name": "stdout",
     "output_type": "stream",
     "text": [
      "It's a bird, it's a ✈️!!\n"
     ]
    }
   ],
   "source": [
    "print(\"It's a bird, it's a \\u2708\\ufe0f!!\")"
   ]
  },
  {
   "cell_type": "markdown",
   "metadata": {
    "slideshow": {
     "slide_type": "slide"
    }
   },
   "source": [
    "## Relational data structures\n",
    "\n",
    "-  invented by E. F. Codd at IBM in 1970\n",
    "-  A relational database is a collection of data organized as a set\n",
    "of formally defined tables\n",
    "-  These tables can be accessed or reassembled in many different ways without having to reorganize the underlying tables that organize the data\n",
    "-  RDBMS: a relational database management system. Examples include: MySQL, SQLite, PostgreSQL, Oracle. MS Access is a lite version of this too.\n",
    "- The standard user and application programmer interface to a relational database is structured query language (SQL)"
   ]
  },
  {
   "cell_type": "markdown",
   "metadata": {
    "slideshow": {
     "slide_type": "slide"
    }
   },
   "source": [
    "#### Example: from Database of Parties, Elections, and Governments (DPEG) relational database\n",
    "\n",
    "```sql\n",
    "SELECT c.countryName, c.countryAbbrev, p.* FROM party AS p\n",
    "  LEFT JOIN country AS c\n",
    "  ON p.countryID = c.countryID\n",
    "```"
   ]
  },
  {
   "cell_type": "markdown",
   "metadata": {
    "slideshow": {
     "slide_type": "slide"
    }
   },
   "source": [
    "## Basic database concepts\n",
    "\n",
    "(following on from last week)\n",
    "\n",
    "- The basic unit is the **database**\n",
    "- It might be stored on disk in a single file or a range of files managed by a server\n",
    "- The database constists of **tables** which store actual data\n",
    "- A table consist of at least one **column** whose name and data type need to be declared\n",
    "- Data is stored in the **rows** of a table"
   ]
  },
  {
   "cell_type": "markdown",
   "metadata": {
    "slideshow": {
     "slide_type": "slide"
    }
   },
   "source": [
    "## Basic relational structures\n",
    "\n",
    "*  tables\n",
    "   -  also known as “relations”\n",
    "   -  tables define the forms of the data that are linked to other data through key relations"
   ]
  },
  {
   "cell_type": "markdown",
   "metadata": {
    "slideshow": {
     "slide_type": "fragment"
    }
   },
   "source": [
    "* keys: how tables are cross-referenced\n",
    "   - **primary key**: an column in a table that uniquely identifies the remaining data in the table\n",
    "   - **foreign key**: a field in a relational table that matches the primary key column of another table\n",
    "   - **join operations** link tables in a structured query"
   ]
  },
  {
   "cell_type": "markdown",
   "metadata": {
    "slideshow": {
     "slide_type": "slide"
    }
   },
   "source": [
    "## Normalization\n",
    "\n",
    "*  Refers to the process of organizing a database into tables and columns, so that each table records a specific type of data, and only those columns that pertain to its topic are included\n",
    "*  Prevents duplication, and allows easier guarantee of data integrity\n",
    "*  Is more efficient\n",
    "*  Allows joined data to consist of _merged_ tables, constructed through _queries_ (more on this later)"
   ]
  },
  {
   "cell_type": "markdown",
   "metadata": {
    "slideshow": {
     "slide_type": "slide"
    }
   },
   "source": [
    "## Normal forms 1\n",
    "\n",
    "“Normalizing” a database means creating a proper set of relations\n",
    "\n",
    "First normal form: No Repeating Elements or Groups of Elements\n",
    "\n",
    "        countryname                   partyname   date per108 per110\n",
    "    175     Austria           FPÖ Freedom Party 199010      3      0\n",
    "    176     Austria        GA Green Alternative 199010      0      3\n",
    "    177     Austria SPÖ Social Democratic Party 199010      5      0\n",
    "    178     Austria          ÖVP People's Party 199010      8      0\n",
    "    179     Austria           FPÖ Freedom Party 199410      1     11\n",
    "    180     Austria            LF Liberal Forum 199410      0      0\n",
    "\n",
    "Here, this is violated because of the wide format of per108 and per110.\n",
    "To solve this, we have to move this to \"long\" format.\n"
   ]
  },
  {
   "cell_type": "markdown",
   "metadata": {
    "slideshow": {
     "slide_type": "slide"
    }
   },
   "source": [
    "## Normal forms 2\n",
    "\n",
    "Second normal form: No Partial Dependencies on a Concatenated Key\n",
    "\n",
    "      countryname party   date category catcount\n",
    "    1     Austria 42420 199010   per101        0\n",
    "    2     Austria 42110 199010   per101        0\n",
    "    3     Austria 42320 199010   per101        0\n",
    "    4     Austria 42520 199010   per101        5\n",
    "    5     Austria 42420 199410   per101        0\n",
    "    6     Austria 42421 199410   per101        0\n",
    "\n",
    "Here, the format is still violated, because party 42420 is repeated. To\n",
    "solve this we need to create a party table and link to it using a\n",
    "foreign key."
   ]
  },
  {
   "cell_type": "markdown",
   "metadata": {
    "slideshow": {
     "slide_type": "slide"
    }
   },
   "source": [
    "## Normal forms 3\n",
    "\n",
    "Third normal form: No Dependencies on Non-Key Attributes. Every\n",
    "non-prime attribute of data in a table must be dependent on a primary\n",
    "key.\n",
    "\n",
    "      countryname party   date category catcount\n",
    "    1     Austria 42420 199010   per101        0\n",
    "    2     Austria 42110 199010   per101        0\n",
    "    3     Austria 42320 199010   per101        0\n",
    "    4     Austria 42520 199010   per101        5\n",
    "    5     Austria 42420 199410   per101        0\n",
    "    6     Austria 42421 199410   per101        0\n",
    "\n",
    "Here, this is violated because election data repeats across multiple\n",
    "values of the category count table, when it should have its own table.\n",
    "\n",
    "(Good explanation [here](https://www.essentialsql.com/get-ready-to-learn-sql-11-database-third-normal-form-explained-in-simple-english/))"
   ]
  },
  {
   "cell_type": "markdown",
   "metadata": {
    "slideshow": {
     "slide_type": "slide"
    }
   },
   "source": [
    "## Normalization: Example <a id=\"normalization-example\"></a>\n",
    "\n",
    "![Not normalized data](http://www.essentialsql.com/wp-content/uploads/2014/06/Intro-Table-Not-Normalized.png)\n",
    "\n",
    "This table serves multiple functions:\n",
    "*  identifies the organization’s salespeople\n",
    "*  iisting the sales offices and phone numbers\n",
    "*  associates a salesperson with a sales office\n",
    "*  lists each salesperson’s customers"
   ]
  },
  {
   "cell_type": "markdown",
   "metadata": {
    "slideshow": {
     "slide_type": "slide"
    }
   },
   "source": [
    "### Problems\n",
    "\n",
    "![Not normalized data](http://www.essentialsql.com/wp-content/uploads/2014/06/Intro-Table-Not-Normalized.png)\n",
    "\n",
    "\n",
    "*   What if we move the Chicago office to San Francisco?  \n",
    "    We would then need to update `SalesOffice` for every row of this table"
   ]
  },
  {
   "cell_type": "markdown",
   "metadata": {
    "slideshow": {
     "slide_type": "fragment"
    }
   },
   "source": [
    "*   What if John Hunt leaves the firm?  \n",
    "    Removing that employee means we lose the information about New York"
   ]
  },
  {
   "cell_type": "markdown",
   "metadata": {
    "slideshow": {
     "slide_type": "fragment"
    }
   },
   "source": [
    "*   What if Dell moves to having Mary Smith as a salesperson?  \n",
    "    Do we shift Customer2 and Customer3 left for John Hunt?"
   ]
  },
  {
   "cell_type": "markdown",
   "metadata": {
    "slideshow": {
     "slide_type": "slide"
    }
   },
   "source": [
    "### Problem: \"insert anomaly\"\n",
    "\n",
    "![Insert anomaly](http://www.essentialsql.com/wp-content/uploads/2014/06/Intro-Insert-Anomaly.png)\n",
    "\n",
    "*  We cannot create a new sales office, until we also know the name of a sales person, because `EmployeeID` is the **primary key**\n",
    "\n",
    "*  The primary key uniquely identifies the data item, so we must have one "
   ]
  },
  {
   "cell_type": "markdown",
   "metadata": {
    "slideshow": {
     "slide_type": "slide"
    }
   },
   "source": [
    "### Problem: \"update anomaly\"\n",
    "\n",
    "![Update anomaly](http://www.essentialsql.com/wp-content/uploads/2014/06/Intro-Update-Anomaly.png)\n",
    "\n",
    "*  If we have to update an attribute not uniquely associated with the primary key, then we have to change the entry multiple times\n",
    "*  Failure to make this update uniformly means we have inconsistent data (in this case, about the phone number of the sales office)"
   ]
  },
  {
   "cell_type": "markdown",
   "metadata": {
    "slideshow": {
     "slide_type": "slide"
    }
   },
   "source": [
    "### Problem: \"deletion anomaly\"\n",
    "\n",
    "![Update anomaly](http://www.essentialsql.com/wp-content/uploads/2014/06/Intro-Deletion-Anomaly.png)\n",
    "\n",
    "*  Deletion of one row removes more information than the item indexed by the primary key\n",
    "*  Here, removing John Hunt also removes information about the New York sales office, and his clients"
   ]
  },
  {
   "cell_type": "markdown",
   "metadata": {
    "slideshow": {
     "slide_type": "slide"
    }
   },
   "source": [
    "### Problem: Searching or sorting\n",
    "\n",
    "![Not normalized data](http://www.essentialsql.com/wp-content/uploads/2014/06/Intro-Table-Not-Normalized.png)\n",
    "\n",
    "*   If we want to search for a specific customer, such as Ford, we have to search three fields (`Customer1` - `Customer3`)\n",
    "*   How could we sort the list of customers?\n",
    "*   Where would we record client data, or link to the clients?"
   ]
  },
  {
   "cell_type": "markdown",
   "metadata": {
    "slideshow": {
     "slide_type": "slide"
    }
   },
   "source": [
    "## Example: Normalization\n",
    "\n",
    "![Unnormalized example](https://sikandar89dubey.files.wordpress.com/2015/09/un-normalise.png)\n",
    "\n"
   ]
  },
  {
   "cell_type": "markdown",
   "metadata": {
    "slideshow": {
     "slide_type": "fragment"
    }
   },
   "source": [
    "## Example: solution (2NF)\n",
    "\n",
    "![example of 2NF](https://sikandar89dubey.files.wordpress.com/2015/09/second-degree-normalisation.png)\n",
    "\n"
   ]
  },
  {
   "cell_type": "markdown",
   "metadata": {
    "slideshow": {
     "slide_type": "slide"
    }
   },
   "source": [
    "## Basic SQL syntax\n",
    "\n",
    "- Defining data: `CREATE TABLE`\n",
    "- Adding, changing, and deleting data: `INSERT`, `UPDATE`, `DELETE`\n",
    "- Accessing data: `SELECT`\n",
    "- Most functionality is part of the `SELECT` statement:\n",
    "    - Filter: `SELECT ... WHERE`\n",
    "    - Sort: `SELECT ... ORDER BY`\n",
    "    - Aggregate: `SELECT ... GROUP BY`\n",
    "    <!-- - Aggregate and filter: `SELECT ... GROUP BY ... HAVING` -->\n",
    "    - Combining data: `SELECT ... JOIN`\n",
    "- Adding constraints: `CREATE CONSTRAINT`\n",
    "- Adding indexes: `CREATE INDEX`"
   ]
  },
  {
   "cell_type": "markdown",
   "metadata": {
    "slideshow": {
     "slide_type": "slide"
    }
   },
   "source": [
    "## SQL Syntax caveats\n",
    "\n",
    "- SQL syntax is **case-insensitive**\n",
    "- `;` has to be added at the end of a line to terminate it (as in C-family languages, Javascript, ...)\n",
    "- There is **no implicit ordering of rows in SQL**"
   ]
  },
  {
   "cell_type": "markdown",
   "metadata": {
    "slideshow": {
     "slide_type": "slide"
    }
   },
   "source": [
    "## Setting up the SQLite command line\n",
    "\n",
    "\n",
    "#### Installation via anaconda\n",
    "\n",
    "```\n",
    "conda install sqlite\n",
    "```\n",
    "\n",
    "#### Connecting to a database\n",
    "\n",
    "```sh\n",
    "sqlite st445-week03.db\n",
    "```\n",
    "\n",
    "```\n",
    "SQLite version 3.20.1 2017-08-24 16:21:36\n",
    "Enter \".help\" for usage hints.\n",
    "sqlite>\n",
    "```"
   ]
  },
  {
   "cell_type": "markdown",
   "metadata": {
    "slideshow": {
     "slide_type": "slide"
    }
   },
   "source": [
    "### Creating a table\n",
    "\n",
    "```SQL\n",
    "CREATE TABLE table_name (column_name column_type [, column_name column_type]) ;\n",
    "```\n",
    "\n",
    "Creating a table involves two things:\n",
    "\n",
    "1. Giving the table a name constiting of alphanumeric characters and `_`\n",
    "2. Giving each column a name and a **data type**\n",
    "\n",
    "The SQL Standard defines several common data types and most SQL implementations provide additional ones:\n",
    "\n",
    "| Type | Description                |\n",
    "|:-----|:---------------------------|\n",
    "| INT, BIGINT | Integer (4- and 8-byte). |\n",
    "| FLOAT, DOUBLE | Single or double precision floating point number (4 or 8 bytes). |\n",
    "| TEXT | String, stored using the database encoding (UTF-8, ...).|\n",
    "| BLOB | Raw binary data. |\n",
    "| BOOLEAN | True or false. |\n",
    "| DATE, TIMESTAMP | Date and date-time. |\n",
    "\n",
    "Compare data types available in [SQLite](https://www.sqlite.org/datatype3.html), [MySQL](https://dev.mysql.com/doc/refman/5.7/en/data-type-overview.html), and [PostgreSQL](https://www.postgresql.org/docs/current/static/datatype.html#DATATYPE-TABLE).\n",
    "\n",
    "#### Example\n",
    "\n",
    "```SQL\n",
    "CREATE TABLE my_table (my_integer INT, my_float FLOAT, my_text TEXT) ;\n",
    "```"
   ]
  },
  {
   "cell_type": "markdown",
   "metadata": {
    "slideshow": {
     "slide_type": "slide"
    }
   },
   "source": [
    "## Adding data to a table\n",
    "\n",
    "You probably will not do this by hand but rather via a script. This is the topic of the class.\n",
    "\n",
    "```SQL\n",
    "INSERT INTO table_name [(column_name [, column_name])] VALUES (value1 [, value2]);\n",
    "```\n",
    "\n",
    "#### Example\n",
    "\n",
    "```SQL\n",
    "INSERT INTO my_table VALUES (1, 1.3, 'abc') ;\n",
    "INSERT INTO my_table (my_integer, my_float, my_text) VALUES (4, 4.3, 'def') ;\n",
    "INSERT INTO my_table (my_integer, my_float) VALUES (8, 8.3) ;\n",
    "```\n",
    "\n",
    "[INSERT documentation](https://www.postgresql.org/docs/current/static/dml-insert.html)"
   ]
  },
  {
   "cell_type": "markdown",
   "metadata": {
    "slideshow": {
     "slide_type": "slide"
    }
   },
   "source": [
    "## Changing or deleting data in a table\n",
    "\n",
    "As above, you probably do not want to do this by hand.\n",
    "\n",
    "```SQL\n",
    "UPDATE table_name SET column_name = value [, column_name = value] WHERE ... ;\n",
    "```\n",
    "\n",
    "```SQL\n",
    "DELETE FROM table_name WHERE ... ;\n",
    "```\n",
    "\n",
    "#### Example\n",
    "\n",
    "```SQL\n",
    "UPDATE my_table SET my_float = 1.5 WHERE my_integer = 1 ;\n",
    "UPDATE my_table SET my_integer = my_integer * 2 WHERE my_text = 'def' ;\n",
    "```\n",
    "\n",
    "\n",
    "```SQL\n",
    "DELETE FROM my_table WHERE my_integer = 8 ;\n",
    "```"
   ]
  },
  {
   "cell_type": "markdown",
   "metadata": {
    "slideshow": {
     "slide_type": "slide"
    }
   },
   "source": [
    "### Retrieving data\n",
    "\n",
    "Whenever data should be retrieved, the statement starts with `SELECT`.\n",
    "\n",
    "```SQL\n",
    "SELECT * | column_name [AS new_name] {, column_name} FROM table_name [AS other_name] ;\n",
    "```\n",
    "\n",
    "`*` selects all columns of the table\n",
    "\n",
    "#### Example 1: Dummy table created above\n",
    "\n",
    "```SQL\n",
    "SELECT * FROM my_table ;\n",
    "```\n",
    "\n",
    "```\n",
    "1|1.3|abc\n",
    "4|4.3|def\n",
    "```\n",
    "\n",
    "#### Example 2: Actual data\n",
    "\n",
    "\n",
    "```SQL\n",
    "SELECT * FROM lecture_TBD ;\n",
    "```\n",
    "\n",
    "```\n",
    "TBD\n",
    "```\n",
    "\n",
    "- This will return all the rows in the table which is not practical for tables with many rows\n",
    "- To just have a glance at the first X rows of the data:\n",
    "    ```SQL\n",
    "    SELECT * FROM lecture_TBD LIMIT 20 ;\n",
    "    ```\n",
    "\n",
    "\n",
    "- This works the same as the `head(dat, n = 20)` function in R from last week\n",
    "- **NB: There is no implicit ordering of rows in SQL**\n",
    "- If the data is not explicitly ordered (will be explained shortly) there is no order whatsoever\n",
    "- This is one of the main differences between SQL tables and tabular data in, e.g., an Excel sheet"
   ]
  },
  {
   "cell_type": "markdown",
   "metadata": {
    "slideshow": {
     "slide_type": "slide"
    }
   },
   "source": [
    "## Filtering data\n",
    "\n",
    "```SQL\n",
    "SELECT ... WHERE condition ;\n",
    "```\n",
    "\n",
    "The `WHERE` clause is part and parcel of the power of SQL (`WHERE`, `JOIN`, and indexing)\n",
    "\n",
    "You can test for many `condition`s:\n",
    "\n",
    "- Equality: `WHERE column_name = value` (as used in the example above)\n",
    "- Interval: `WHERE column_name BETWEEN lower_value AND higher_value`\n",
    "- Set membership: `WHERE column_name IN (value1, value2, ...)`\n",
    "- The set can be generated on the fly: `WHERE column_name IN (SELECT myvar FROM mytable)`\n",
    "- Simple pattern match in strings: `WHERE string_column LIKE '_ab%'` \n",
    "    (`_` denotes _one_ character, `%` denotes zero or more characters, see also `GLOB` and `REGEX`)\n",
    "- Missing values: `WHERE column_name IS NULL`\n",
    "\n",
    "Individual `condition`s can be composed with the logic operators `AND`, `OR`, and `NOT`"
   ]
  },
  {
   "cell_type": "markdown",
   "metadata": {
    "slideshow": {
     "slide_type": "slide"
    }
   },
   "source": [
    "## Sorting data\n",
    "\n",
    "As mentioned previously:\n",
    "\n",
    "> SQL does not implicitly order data.¹\n",
    "\n",
    "This means data can and will be returned in an arbitrary fashion (last accessed, query optimization, ...)\n",
    "\n",
    "Work around this by explicitly ordering on variables. \n",
    "\n",
    "```SQL\n",
    "SELECT ... ORDER BY column_name [DESC] [, column_name, ...] ;\n",
    "```\n",
    "\n",
    "#### Example\n",
    "\n",
    "```SQL\n",
    "SELECT * FROM lecture_TBD WHERE TBD ;\n",
    "```\n",
    "\n",
    "Only works in SQLite because the variable `rowid` is created by default.\n",
    "\n",
    "\n",
    "```SQL\n",
    "SELECT * FROM lecture_TBD ORDER BY rowid LIMIT 20 ;\n",
    "```\n",
    "\n",
    "¹ SQLite tables have a primary key by default called `rowid` ([see here](https://sqlite.org/lang_createtable.html#primkeyconst)). However, the data is **not** implicitly sorted according to the rowid."
   ]
  },
  {
   "cell_type": "markdown",
   "metadata": {
    "slideshow": {
     "slide_type": "slide"
    }
   },
   "source": [
    "## Aggregating data\n",
    "\n",
    "```SQL\n",
    "SELECT ... GROUP BY column_name ;\n",
    "```\n",
    "\n",
    "- Data can be aggregated directly within SQL\n",
    "- This works by defining a **grouping variable**\n",
    "- The number of distinct values of the grouping variable defines the number groups\n",
    "- All rows which share a value on the grouping variable are grouped together\n",
    "- If there are several grouping variables, the unique combinations across all grouping variables defines the groups\n",
    "\n",
    "<!-- hidden divider -->\n",
    "\n",
    "- This statement puts some limits on the variables that you can select in the `...` part\n",
    "- Bare variables must be included in the `GROUP BY` part\n",
    "- Other variables need to be aggregated with the help of a function\n",
    "- The functions gets the all the rows in the group and returns a single, aggregated value\n",
    "- Aggregation functions available in [SQLite](https://sqlite.org/lang_aggfunc.html), [MySQL](https://dev.mysql.com/doc/refman/5.7/en/group-by-functions.html), and [PostgreSQL](https://www.postgresql.org/docs/current/static/functions-aggregate.html)"
   ]
  },
  {
   "cell_type": "markdown",
   "metadata": {
    "slideshow": {
     "slide_type": "slide"
    }
   },
   "source": [
    "## Aggregating data (cont'd)\n",
    "\n",
    "```SQL\n",
    "SELECT ... GROUP BY column_name ;\n",
    "```\n",
    "\n",
    "#### Example\n",
    "\n",
    "Count the number of rows per group:\n",
    "\n",
    "```SQL\n",
    "SELECT country, COUNT(country) AS n FROM lecture_TBD GROUP BY country ;\n",
    "```\n",
    "\n",
    "Return minimum/maximum value per group:\n",
    "\n",
    "```SQL\n",
    "SELECT country, min(XXX) AS XXX_min, max(XXX) AS XXX_max FROM lecture_TBD GROUP BY column_name ;\n",
    "```"
   ]
  },
  {
   "cell_type": "markdown",
   "metadata": {
    "slideshow": {
     "slide_type": "slide"
    }
   },
   "source": [
    "## Joining tables\n",
    "\n",
    "- The second pillar of SQL's (or more generally RDBM's) success\n",
    "- Allows to combine two tables on the fly\n",
    "- A single table thus does not need to contain all the relevant information\n",
    "- If you know where \n",
    "\n",
    "Types of `JOIN`s:\n",
    "\n",
    "- `INNER JOIN` retains only matching rows from tables 1 and 2\n",
    "- `LEFT OUTER JOIN` retains all rows from table 1 and matching rows from table 2\n",
    "- `RIGHT OUTER JOIN` retains machting rows from table 1 and all rows from table 2"
   ]
  },
  {
   "cell_type": "code",
   "execution_count": 1,
   "metadata": {
    "slideshow": {
     "slide_type": "skip"
    }
   },
   "outputs": [
    {
     "data": {
      "application/javascript": [
       "\n",
       "    require(['notebook/js/codecell'], function(codecell) {\n",
       "      // https://github.com/jupyter/notebook/issues/2453\n",
       "      codecell.CodeCell.options_default.highlight_modes['magic_text/x-sql'] = {'reg':[/^%read_sql/, /.*=\\s*%read_sql/,\n",
       "                                                                                      /^%%read_sql/]};\n",
       "      Jupyter.notebook.events.one('kernel_ready.Kernel', function(){\n",
       "          console.log('BBBBB');\n",
       "          Jupyter.notebook.get_cells().map(function(cell){\n",
       "              if (cell.cell_type == 'code'){ cell.auto_highlight(); } }) ;\n",
       "      });\n",
       "    });\n",
       "    "
      ]
     },
     "metadata": {},
     "output_type": "display_data"
    }
   ],
   "source": [
    "%load_ext sql_magic\n",
    "%config SQL.notify_result=False\n",
    "%config SQL.output_result=True\n",
    "\n",
    "import sqlite3\n",
    "con = sqlite3.connect(':memory:')\n",
    "%config SQL.conn_name='con'\n",
    "\n",
    "with con:\n",
    "    con.execute('CREATE TABLE students (id INT PRIMARY KEY, name TEXT, programme TEXT) ;')\n",
    "    data=[\n",
    "        (2017829384, 'Anne', 'MSc in Research'),\n",
    "        (2017891623, 'Tobias', 'MSc in DB Management'),\n",
    "        (2017530293, 'Mette', 'MSc in DB Management'),\n",
    "        (2017539281, 'Adam', 'MSc in Statistics')\n",
    "        ]\n",
    "    for d in data:\n",
    "        con.execute('INSERT INTO students VALUES (?, ? , ?)', d)\n",
    "\n",
    "with con:\n",
    "    con.execute('CREATE TABLE programmes (programme TEXT PRIMARY KEY, department TEXT) ;')\n",
    "    data=[\n",
    "        ('MSc in DB Management', 'Department of Databases'),\n",
    "        ('MSc in Statistics', 'Department of Statistics'),\n",
    "        ('MSc in Social Research Methods', 'Department of Methodology')\n",
    "        ]\n",
    "    for d in data:\n",
    "        con.execute('INSERT INTO programmes VALUES (?, ?)', d)"
   ]
  },
  {
   "cell_type": "code",
   "execution_count": 3,
   "metadata": {
    "slideshow": {
     "slide_type": "skip"
    }
   },
   "outputs": [
    {
     "name": "stdout",
     "output_type": "stream",
     "text": [
      "Query started at 08:28:45 AM BST; Query executed in 0.00 m"
     ]
    },
    {
     "data": {
      "text/html": [
       "<div>\n",
       "<style>\n",
       "    .dataframe thead tr:only-child th {\n",
       "        text-align: right;\n",
       "    }\n",
       "\n",
       "    .dataframe thead th {\n",
       "        text-align: left;\n",
       "    }\n",
       "\n",
       "    .dataframe tbody tr th {\n",
       "        vertical-align: top;\n",
       "    }\n",
       "</style>\n",
       "<table border=\"1\" class=\"dataframe\">\n",
       "  <thead>\n",
       "    <tr style=\"text-align: right;\">\n",
       "      <th></th>\n",
       "      <th>id</th>\n",
       "      <th>name</th>\n",
       "      <th>programme</th>\n",
       "      <th>department</th>\n",
       "    </tr>\n",
       "  </thead>\n",
       "  <tbody>\n",
       "    <tr>\n",
       "      <th>0</th>\n",
       "      <td>2017891623</td>\n",
       "      <td>Tobias</td>\n",
       "      <td>MSc in DB Management</td>\n",
       "      <td>Department of Databases</td>\n",
       "    </tr>\n",
       "    <tr>\n",
       "      <th>1</th>\n",
       "      <td>2017530293</td>\n",
       "      <td>Mette</td>\n",
       "      <td>MSc in DB Management</td>\n",
       "      <td>Department of Databases</td>\n",
       "    </tr>\n",
       "    <tr>\n",
       "      <th>2</th>\n",
       "      <td>2017539281</td>\n",
       "      <td>Adam</td>\n",
       "      <td>MSc in Statistics</td>\n",
       "      <td>Department of Statistics</td>\n",
       "    </tr>\n",
       "  </tbody>\n",
       "</table>\n",
       "</div>"
      ],
      "text/plain": [
       "           id    name             programme                 department\n",
       "0  2017891623  Tobias  MSc in DB Management   Department of Databases\n",
       "1  2017530293   Mette  MSc in DB Management   Department of Databases\n",
       "2  2017539281    Adam     MSc in Statistics  Department of Statistics"
      ]
     },
     "execution_count": 3,
     "metadata": {},
     "output_type": "execute_result"
    }
   ],
   "source": [
    "%%read_sql\n",
    "SELECT\n",
    "    a.id, a.name, a.programme, b.department \n",
    "FROM students AS a\n",
    "INNER JOIN programmes AS b \n",
    "ON a.programme = b.programme ;"
   ]
  },
  {
   "cell_type": "markdown",
   "metadata": {
    "slideshow": {
     "slide_type": "slide"
    }
   },
   "source": [
    "## Joining tables: `INNER JOIN`\n",
    "\n",
    "| Student ID | Student name | Programme            |\n",
    "|:-----------|:-------------|:---------------------|\n",
    "| 2017829384 | Anne         | MSc in Research      |\n",
    "| 2017891623 | Tobias       | MSc in DB Management |\n",
    "| 2017530293 | Mette        | MSc in DB Management |\n",
    "| 2017539281 | Adam         | MSc in Statistics    |\n",
    "\n",
    "| Programme | Department |\n",
    "|:----------|:----------|\n",
    "| MSc in DB Management | Department of Databases |\n",
    "| MSc in Statistics | Department of Statistics |\n",
    "| MSc in Social Research Methods | Department of Methodology |\n",
    "\n",
    "```SQL\n",
    "SELECT \n",
    "    a.id, a.name, a.programme, b.department \n",
    "FROM students AS a\n",
    "INNER JOIN programmes AS b \n",
    "ON a.programme = b.programme ;\n",
    "```\n",
    "\n",
    "|id | name | programme | department\n",
    "|:-|:---|:--------|:--------|\n",
    "|2017891623 | Tobias | MSc in DB Management | Department of Databases\n",
    "|2017530293 | Mette | MSc in DB Management | Department of Databases\n",
    "|2017539281 | Adam | MSc in Statistics | Department of Statistics\n"
   ]
  },
  {
   "cell_type": "markdown",
   "metadata": {
    "slideshow": {
     "slide_type": "slide"
    }
   },
   "source": [
    "## Joining tables: `LEFT OUTER JOIN`\n",
    "\n",
    "| Student ID | Student name | Programme            |\n",
    "|:-----------|:-------------|:---------------------|\n",
    "| 2017829384 | Anne         | MSc in Research      |\n",
    "| 2017891623 | Tobias       | MSc in DB Management |\n",
    "| 2017530293 | Mette        | MSc in DB Management |\n",
    "| 2017539281 | Adam         | MSc in Statistics    |\n",
    "\n",
    "| Programme | Department |\n",
    "|:----------|:----------|\n",
    "| MSc in DB Management | Department of Databases|\n",
    "| MSc in Statistics | Department of Statistics |\n",
    "| MSc in Social Research Methods | Department of Methodology |\n",
    "\n",
    "The `OUTER` keyword is optional and often left out.\n",
    "\n",
    "```SQL\n",
    "SELECT \n",
    "    a.id, a.name, a.programme, b.department \n",
    "FROM students AS a\n",
    "LEFT JOIN programmes AS b \n",
    "ON a.programme = b.programme ;\n",
    "```\n",
    "\n",
    "|id|name|programme|department|\n",
    "|:-|:---|:--------|:--------|\n",
    "|2017829384|Anne|MSc in Research| |\n",
    "|2017891623|Tobias|MSc in DB Management|Department of Databases|\n",
    "|2017530293|Mette|MSc in DB Management|Department of Databases|\n",
    "|2017539281|Adam|MSc in Statistics|Department of Statistics|\n"
   ]
  },
  {
   "cell_type": "markdown",
   "metadata": {
    "slideshow": {
     "slide_type": "slide"
    }
   },
   "source": [
    "## Joining tables: `RIGHT OUTER JOIN`\n",
    "\n",
    "| Student ID | Student name | Programme            |\n",
    "|:-----------|:-------------|:---------------------|\n",
    "| 2017829384 | Anne         | MSc in Research      |\n",
    "| 2017891623 | Tobias       | MSc in DB Management |\n",
    "| 2017530293 | Mette        | MSc in DB Management |\n",
    "| 2017539281 | Adam         | MSc in Statistics    |\n",
    "\n",
    "| Programme | Department |\n",
    "|:----------|:----------|\n",
    "| MSc in DB Management | Department of Databases|\n",
    "| MSc in Statistics | Department of Statistics |\n",
    "| MSc in Social Research Methods | Department of Methodology |\n",
    "\n",
    "SQLite does not support `RIGHT OUTER JOIN` so the actual syntax used for the output uses `LEFT JOIN` with rearranged tables\n",
    "\n",
    "```SQL\n",
    "SELECT \n",
    "    a.id, a.name, b.programme, b.department \n",
    "FROM students AS a\n",
    "RIGHT JOIN programmes AS b \n",
    "ON a.programme = b.programme ;\n",
    "```\n",
    "\n",
    "|id | name | programme | department\n",
    "|:-|:---|:--------|:--------|\n",
    "|2017530293 | Mette | MSc in DB Management | Department of Databases\n",
    "|2017891623 | Tobias | MSc in DB Management | Department of Databases\n",
    "|2017539281 | Adam | MSc in Statistics | Department of Statistics\n",
    "| |  | MSc in Social Research Methods | Department of Methodology\n"
   ]
  },
  {
   "cell_type": "markdown",
   "metadata": {
    "slideshow": {
     "slide_type": "notes"
    }
   },
   "source": [
    "Actual syntax used to replicate `RIGHT OUTER JOIN` in SQLite:\n",
    "\n",
    "```SQL\n",
    "SELECT \n",
    "    a.id, a.name, b.programme, b.department \n",
    "FROM programmes AS b\n",
    "LEFT JOIN students AS a\n",
    "ON b.programme = a.programme ;\n",
    "```"
   ]
  },
  {
   "cell_type": "markdown",
   "metadata": {
    "slideshow": {
     "slide_type": "slide"
    }
   },
   "source": [
    "## Keys, constraints and indexes\n",
    "\n",
    "- A primary or foreign **key** (as mentioned at the beginning of the lecture) is a unique identifier \n",
    "- In SQL, keys are mainly made of **constraints**\n",
    "- A **constraint** defines a check on data entered in to a table\n",
    "- If a row fails the check, SQL will signal an error and no data will be inserted in the table\n",
    "- The main constraints used to build indexes are:\n",
    "    - `UNIQUE` forces the values of a given column to be distinct\n",
    "    - `NOT NULL` disallows NULL, i.e. missing, values\n",
    "    - `PRIMARY KEY` is a shortcut for `UNIQUE NOT NULL` in most SQL implementations **but not in SQLite** (for historical reasons)\n",
    "    - `FOREIGN KEY ...` foreign constraints in most SQL implementations and recent SQLite with foreign keys turned on\n",
    "    - `CHECK (EXISTS(SELECT 1 FROM foreign_table WHERE foreign_key=local_key))` foreign key constraint implemented by hand\n",
    "\n",
    "<!-- hidden divider -->\n",
    "\n",
    "- Declaring a primary key also automatically creates an **index** in most SQL implementations (though not in SQLite)\n",
    "- An **index** is, generally speaking, a lookup table for a given column which allows sorting and filtering data to be quicker\n",
    "- It comes with a maintenance cost because it needs to be updated whenever new data is inserted"
   ]
  },
  {
   "cell_type": "markdown",
   "metadata": {
    "slideshow": {
     "slide_type": "slide"
    }
   },
   "source": [
    "## Putting it all together to create normalised DBs\n",
    "\n",
    "### Setting up tables\n",
    "\n",
    "```SQL\n",
    "CREATE TABLE students (id INT PRIMARY KEY NOT NULL, name TEXT) ;\n",
    "CREATE TABLE programmes (id INT PRIMARY KEY NOT NULL, name TEXT, department TEXT) ;\n",
    "CREATE TABLE allocation (\n",
    "    student_id INT NOT NULL,\n",
    "    programme_id INT NOT NULL,\n",
    "    FOREIGN KEY(student_id) REFERENCES students(id),\n",
    "    FOREIGN KEY(programme_id) REFERENCES programme(id)\n",
    "    ) ;\n",
    "```\n"
   ]
  },
  {
   "cell_type": "markdown",
   "metadata": {
    "slideshow": {
     "slide_type": "slide"
    }
   },
   "source": [
    "## Putting it all together to create normalised DBs\n",
    "\n",
    "### Adding data\n",
    "\n",
    "```SQL\n",
    "INSERT INTO students VALUES\n",
    "    (2017829384, 'Anne'),\n",
    "    (2017891623, 'Tobias'),\n",
    "    (2017530293, 'Mette'),\n",
    "    (2017539281, 'Adam') ;\n",
    "\n",
    "INSERT INTO programmes VALUES\n",
    "    (1, 'MSc in DB Management', 'Department of Databases'),\n",
    "    (2, 'MSc in Statistics', 'Department of Statistics'),\n",
    "    (3, 'MSc in Social Research Methods', 'Department of Methodology'),\n",
    "    (4, 'MSc in Research', 'Department of Research') ;\n",
    "\n",
    "INSERT INTO allocation VALUES\n",
    "    (2017829384, 4),\n",
    "    (2017891623, 1),\n",
    "    (2017530293, 1),\n",
    "    (2017539281, 2) ;\n",
    "\n",
    "```\n",
    "\n",
    "The `programmes` table contains the missing row for an \"MSc in Research\""
   ]
  },
  {
   "cell_type": "markdown",
   "metadata": {
    "slideshow": {
     "slide_type": "slide"
    }
   },
   "source": [
    "## Putting it all together to create normalised DBs\n",
    "\n",
    "### Joining\n",
    "\n",
    "```SQL\n",
    "SELECT\n",
    "    s.id AS student_id,\n",
    "    s.name AS student_name,\n",
    "    p.name AS programme_name,\n",
    "    p.department\n",
    "FROM\n",
    "    allocation AS a,\n",
    "    students AS s,\n",
    "    programmes AS p\n",
    "WHERE\n",
    "    a.student_id = s.id\n",
    "    AND\n",
    "    a.programme_id = p.id\n",
    ";\n",
    "```\n",
    "\n",
    "|student_id | student_name | programme_name | department |\n",
    "|:----------|:-------------|:---------------|:-----------|\n",
    "|2017829384 | Anne | MSc in Research | Department of Research |\n",
    "|2017891623 | Tobias | MSc in DB Management | Department of Databases |\n",
    "|2017530293 | Mette | MSc in DB Management | Department of Databases |\n",
    "|2017539281 | Adam | MSc in Statistics | Department of Statistics |\n",
    "\n",
    "(Implicit `CROSS JOIN` with manual implementation of the `ON ...`)"
   ]
  },
  {
   "cell_type": "markdown",
   "metadata": {
    "slideshow": {
     "slide_type": "slide"
    }
   },
   "source": [
    "## Putting it all together to create normalised DBs\n",
    "\n",
    "### Aggregating\n",
    "\n",
    "```SQL\n",
    "SELECT\n",
    "    p.department,\n",
    "    COUNT(1) AS students\n",
    "FROM allocation AS a\n",
    "LEFT JOIN programmes AS p\n",
    "    ON (a.programme_id = p.id)\n",
    "GROUP BY p.department\n",
    ";\n",
    "```\n",
    "\n",
    "| department | students |\n",
    "|:-----------|:---------|\n",
    "| Department of Databases | 2 |\n",
    "| Department of Research | 1 |\n",
    "| Department of Statistics | 1 |\n",
    "\n",
    "\n",
    "NB:\n",
    "- Departments without students are omitted here\n",
    "- Just to reiterate: The order of the rows is completely arbitrary"
   ]
  },
  {
   "cell_type": "markdown",
   "metadata": {
    "slideshow": {
     "slide_type": "slide"
    }
   },
   "source": [
    "## [DB Browser](http://sqlitebrowser.org) to the rescue\n",
    "\n",
    "![DB Browser - structure](figs/dbbrowser1.png)\n"
   ]
  },
  {
   "cell_type": "markdown",
   "metadata": {
    "slideshow": {
     "slide_type": "slide"
    }
   },
   "source": [
    "## [DB Browser](http://sqlitebrowser.org): Executing queries\n",
    "\n",
    "![DB Browser - structure](figs/dbbrowser2.png)\n"
   ]
  },
  {
   "cell_type": "markdown",
   "metadata": {
    "slideshow": {
     "slide_type": "slide"
    }
   },
   "source": [
    "## Coming soon\n",
    "\n",
    "* **Lab**: Database normalization, and working with a relational database manager\n",
    "* **Next week**: Using data from the Internet"
   ]
  },
  {
   "cell_type": "code",
   "execution_count": 3,
   "metadata": {
    "collapsed": true,
    "slideshow": {
     "slide_type": "skip"
    }
   },
   "outputs": [],
   "source": [
    "con.close()"
   ]
  }
 ],
 "metadata": {
  "celltoolbar": "Slideshow",
  "kernelspec": {
   "display_name": "Python 3",
   "language": "python",
   "name": "python3"
  },
  "language_info": {
   "codemirror_mode": {
    "name": "ipython",
    "version": 3
   },
   "file_extension": ".py",
   "mimetype": "text/x-python",
   "name": "python",
   "nbconvert_exporter": "python",
   "pygments_lexer": "ipython3",
   "version": "3.6.1"
  }
 },
 "nbformat": 4,
 "nbformat_minor": 2
}
