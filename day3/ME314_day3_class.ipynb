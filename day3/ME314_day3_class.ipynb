{
 "cells": [
  {
   "cell_type": "markdown",
   "metadata": {
    "slideshow": {
     "slide_type": "slide"
    }
   },
   "source": [
    "### ST445 Managing and Visualizing Data\n",
    "# Creating and managing databases\n",
    "### Week 3 Lab, MT 2017"
   ]
  },
  {
   "cell_type": "markdown",
   "metadata": {
    "slideshow": {
     "slide_type": "slide"
    }
   },
   "source": [
    "## Quick recap of the lecture\n",
    "\n",
    "- TBD"
   ]
  },
  {
   "cell_type": "markdown",
   "metadata": {
    "slideshow": {
     "slide_type": "slide"
    }
   },
   "source": [
    "## Connecting to an SQL database or `connections` and `cursors`\n",
    "\n",
    "1. Connect to a file or server (depending on SQL implementation)\n",
    "2. Create a __cursor__: This is the actual connection to the DB\n",
    "    \n",
    "3. Execute a query\n",
    "4. Retrieve results\n",
    "\n",
    "5. REPEAT 3,4 until finished\n",
    "\n",
    "6. Close cursor\n",
    "7. Close connection"
   ]
  },
  {
   "cell_type": "markdown",
   "metadata": {
    "slideshow": {
     "slide_type": "slide"
    }
   },
   "source": [
    "## Creating an SQLite database in Python"
   ]
  },
  {
   "cell_type": "code",
   "execution_count": 25,
   "metadata": {
    "collapsed": true,
    "slideshow": {
     "slide_type": "fragment"
    }
   },
   "outputs": [],
   "source": [
    "import sqlite3\n",
    "\n",
    "con = sqlite3.connect(':memory:')  # Creates DB in memory\n",
    "\n",
    "cursor = con.cursor()"
   ]
  },
  {
   "cell_type": "markdown",
   "metadata": {
    "slideshow": {
     "slide_type": "slide"
    }
   },
   "source": [
    "## The `with` Statement\n",
    "\n",
    "- This code pattern is very common:\n",
    "    ```python\n",
    "    f = open('myfile.txt')\n",
    "    # arbitrary code block; e.g.\n",
    "    content = f.read()\n",
    "    f.close()\n",
    "    ```\n",
    "- The `with` statements simplifies them by automatically calling `close()` or another appropriate method\n",
    "    ```python\n",
    "    with open('myfile.txt') as f:\n",
    "        # arbitrary code block; e.g.\n",
    "        content = f.read()\n",
    "    ```\n",
    "- NB: `f.close()` __is called__ when the indented block exits (even if the block raises an error!)\n",
    "\n",
    "\n",
    "- References: [Language reference](https://docs.python.org/3/reference/compound_stmts.html#the-with-statement),\n",
    "[PEP343](https://www.python.org/dev/peps/pep-0343/)\n"
   ]
  },
  {
   "cell_type": "markdown",
   "metadata": {
    "slideshow": {
     "slide_type": "slide"
    }
   },
   "source": [
    "## Using `with` to Simplify DB Code\n",
    "\n",
    "#### Two with statments\n",
    "\n",
    "```python\n",
    "with sqlite3.connect(':memory:') as con:\n",
    "    with con:\n",
    "        con.execute(SQL)\n",
    "```\n",
    "\n",
    "#### One with statments (__preferred__)\n",
    "\n",
    "```python\n",
    "con = sqlite3.connect(':memory:')\n",
    "with con:\n",
    "    con.execute(SQL)\n",
    "con.close()\n",
    "```"
   ]
  },
  {
   "cell_type": "markdown",
   "metadata": {
    "slideshow": {
     "slide_type": "slide"
    }
   },
   "source": [
    "## Passing parameters to `execute`\n",
    "\n",
    "- You often want to pass parameters to `execute`, e.g. when inserting data into a table\n",
    "- __NEVER EVER__ pass parameters by string interpolation in Python\n",
    "\n",
    "    ```python\n",
    "    # this won't end well\n",
    "    cursor.execute('INSERT INTO t1 ({}, {})'.format(1, 'horrible'))\n",
    "    # neither will this\n",
    "    cursor.execute('INSERT INTO t1 (%i, %s)' % (2, 'failure'))\n",
    "    ```"
   ]
  },
  {
   "cell_type": "markdown",
   "metadata": {
    "slideshow": {
     "slide_type": "fragment"
    }
   },
   "source": [
    "<center class=\"stretch\">![](figs/xckd327.png)</center>"
   ]
  },
  {
   "cell_type": "markdown",
   "metadata": {
    "slideshow": {
     "slide_type": "slide"
    }
   },
   "source": [
    "### Passing parameters to `execute` (2)\n",
    "\n",
    "- This is the one and only correct way of passing parameters\n",
    "    ```python\n",
    "    cur.execute('INSERT INTO t1 (?, ?)', (3, 'good'))\n",
    "    ```\n",
    "- Put a `?` in the SQL command where you want a parameter to be\n",
    "- Pass a tuple of values you want to insert as the second parameter\n",
    "\n",
    "<!-->invisible list separator<-->\n",
    "\n",
    "- Use a stray `,` to generate a tuple with a single member: `('abc', )`"
   ]
  },
  {
   "cell_type": "code",
   "execution_count": 26,
   "metadata": {
    "slideshow": {
     "slide_type": "fragment"
    }
   },
   "outputs": [
    {
     "ename": "ProgrammingError",
     "evalue": "Incorrect number of bindings supplied. The current statement uses 1, and there are 3 supplied.",
     "output_type": "error",
     "traceback": [
      "\u001b[0;31m---------------------------------------------------------------------------\u001b[0m",
      "\u001b[0;31mProgrammingError\u001b[0m                          Traceback (most recent call last)",
      "\u001b[0;32m<ipython-input-26-4303bae29a8e>\u001b[0m in \u001b[0;36m<module>\u001b[0;34m()\u001b[0m\n\u001b[0;32m----> 1\u001b[0;31m \u001b[0mcursor\u001b[0m\u001b[0;34m.\u001b[0m\u001b[0mexecute\u001b[0m\u001b[0;34m(\u001b[0m\u001b[0;34m'SELECT ?'\u001b[0m\u001b[0;34m,\u001b[0m \u001b[0;34m(\u001b[0m\u001b[0;34m'abc'\u001b[0m\u001b[0;34m)\u001b[0m\u001b[0;34m)\u001b[0m\u001b[0;34m\u001b[0m\u001b[0m\n\u001b[0m",
      "\u001b[0;31mProgrammingError\u001b[0m: Incorrect number of bindings supplied. The current statement uses 1, and there are 3 supplied."
     ]
    }
   ],
   "source": [
    "cursor.execute('SELECT ?', ('abc'))"
   ]
  },
  {
   "cell_type": "code",
   "execution_count": null,
   "metadata": {
    "collapsed": true,
    "slideshow": {
     "slide_type": "fragment"
    }
   },
   "outputs": [],
   "source": [
    "cursor.execute('SELECT ?', ('abc', ))"
   ]
  },
  {
   "cell_type": "markdown",
   "metadata": {
    "slideshow": {
     "slide_type": "fragment"
    }
   },
   "source": [
    "- Beware: `tuple(my_value)` probably does not what you want"
   ]
  },
  {
   "cell_type": "code",
   "execution_count": null,
   "metadata": {
    "collapsed": true,
    "slideshow": {
     "slide_type": "fragment"
    }
   },
   "outputs": [],
   "source": [
    "tuple('abc')"
   ]
  },
  {
   "cell_type": "code",
   "execution_count": null,
   "metadata": {
    "collapsed": true,
    "slideshow": {
     "slide_type": "fragment"
    }
   },
   "outputs": [],
   "source": [
    "tuple(1)"
   ]
  },
  {
   "cell_type": "markdown",
   "metadata": {
    "slideshow": {
     "slide_type": "slide"
    }
   },
   "source": [
    "## Week 3 Assignment\n",
    "\n",
    "* Write a simple program in a Jupyter notebook and submit it on GitHub\n",
    "* Link to the assignment: [https://classroom.github.com/a/ZmAxfNMr](https://classroom.github.com/a/ZmAxfNMr)\n",
    "\n",
    "<!-->separator<-->\n",
    "\n",
    "- __IF YOU PASS PARAMETERS VIA PYTHON STRING INTERPOLATION YOU WILL RECEIVE A PENALTY__"
   ]
  }
 ],
 "metadata": {
  "celltoolbar": "Slideshow",
  "kernelspec": {
   "display_name": "Python 3",
   "language": "python",
   "name": "python3"
  },
  "language_info": {
   "codemirror_mode": {
    "name": "ipython",
    "version": 3
   },
   "file_extension": ".py",
   "mimetype": "text/x-python",
   "name": "python",
   "nbconvert_exporter": "python",
   "pygments_lexer": "ipython3",
   "version": "3.6.1"
  }
 },
 "nbformat": 4,
 "nbformat_minor": 2
}
